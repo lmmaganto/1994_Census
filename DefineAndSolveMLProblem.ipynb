{
 "cells": [
  {
   "cell_type": "markdown",
   "metadata": {},
   "source": [
    "# Lab 8: Define and Solve an ML Problem of Your Choosing"
   ]
  },
  {
   "cell_type": "code",
   "execution_count": 1,
   "metadata": {},
   "outputs": [],
   "source": [
    "import pandas as pd\n",
    "import numpy as np\n",
    "import os \n",
    "import matplotlib.pyplot as plt\n",
    "import seaborn as sns\n",
    "import scipy.stats as stats\n",
    "from sklearn.tree import DecisionTreeRegressor\n",
    "from sklearn.model_selection import train_test_split\n",
    "from sklearn.model_selection import GridSearchCV\n",
    "from sklearn.metrics import mean_squared_error,r2_score\n",
    "#!pip install imbalanced-learn\n",
    "from imblearn.over_sampling import RandomOverSampler\n",
    "os.environ[\"TF_CPP_MIN_LOG_LEVEL\"] = \"2\" # suppress info and warning messages\n",
    "import tensorflow.keras as keras"
   ]
  },
  {
   "cell_type": "markdown",
   "metadata": {},
   "source": [
    "In this lab assignment, you will follow the machine learning life cycle and implement a model to solve a machine learning problem of your choosing. You will select a data set and choose a predictive problem that the data set supports.  You will then inspect the data with your problem in mind and begin to formulate a  project plan. You will then implement the machine learning project plan. \n",
    "\n",
    "You will complete the following tasks:\n",
    "\n",
    "1. Build Your DataFrame\n",
    "2. Define Your ML Problem\n",
    "3. Perform exploratory data analysis to understand your data.\n",
    "4. Define Your Project Plan\n",
    "5. Implement Your Project Plan:\n",
    "    * Prepare your data for your model.\n",
    "    * Fit your model to the training data and evaluate your model.\n",
    "    * Improve your model's performance."
   ]
  },
  {
   "cell_type": "markdown",
   "metadata": {},
   "source": [
    "## Part 1: Build Your DataFrame\n",
    "\n",
    "You will have the option to choose one of four data sets that you have worked with in this program:\n",
    "\n",
    "* The \"census\" data set that contains Census information from 1994: `censusData.csv`\n",
    "* Airbnb NYC \"listings\" data set: `airbnbListingsData.csv`\n",
    "* World Happiness Report (WHR) data set: `WHR2018Chapter2OnlineData.csv`\n",
    "* Book Review data set: `bookReviewsData.csv`\n",
    "\n",
    "Note that these are variations of the data sets that you have worked with in this program. For example, some do not include some of the preprocessing necessary for specific models. \n",
    "\n",
    "#### Load a Data Set and Save it as a Pandas DataFrame\n",
    "\n",
    "The code cell below contains filenames (path + filename) for each of the four data sets available to you.\n",
    "\n",
    "<b>Task:</b> In the code cell below, use the same method you have been using to load the data using `pd.read_csv()` and save it to DataFrame `df`. \n",
    "\n",
    "You can load each file as a new DataFrame to inspect the data before choosing your data set."
   ]
  },
  {
   "cell_type": "code",
   "execution_count": 2,
   "metadata": {},
   "outputs": [
    {
     "data": {
      "text/html": [
       "<div>\n",
       "<style scoped>\n",
       "    .dataframe tbody tr th:only-of-type {\n",
       "        vertical-align: middle;\n",
       "    }\n",
       "\n",
       "    .dataframe tbody tr th {\n",
       "        vertical-align: top;\n",
       "    }\n",
       "\n",
       "    .dataframe thead th {\n",
       "        text-align: right;\n",
       "    }\n",
       "</style>\n",
       "<table border=\"1\" class=\"dataframe\">\n",
       "  <thead>\n",
       "    <tr style=\"text-align: right;\">\n",
       "      <th></th>\n",
       "      <th>age</th>\n",
       "      <th>workclass</th>\n",
       "      <th>fnlwgt</th>\n",
       "      <th>education</th>\n",
       "      <th>education-num</th>\n",
       "      <th>marital-status</th>\n",
       "      <th>occupation</th>\n",
       "      <th>relationship</th>\n",
       "      <th>race</th>\n",
       "      <th>sex_selfID</th>\n",
       "      <th>capital-gain</th>\n",
       "      <th>capital-loss</th>\n",
       "      <th>hours-per-week</th>\n",
       "      <th>native-country</th>\n",
       "      <th>income_binary</th>\n",
       "    </tr>\n",
       "  </thead>\n",
       "  <tbody>\n",
       "    <tr>\n",
       "      <th>0</th>\n",
       "      <td>39.0</td>\n",
       "      <td>State-gov</td>\n",
       "      <td>77516</td>\n",
       "      <td>Bachelors</td>\n",
       "      <td>13</td>\n",
       "      <td>Never-married</td>\n",
       "      <td>Adm-clerical</td>\n",
       "      <td>Not-in-family</td>\n",
       "      <td>White</td>\n",
       "      <td>Non-Female</td>\n",
       "      <td>2174</td>\n",
       "      <td>0</td>\n",
       "      <td>40.0</td>\n",
       "      <td>United-States</td>\n",
       "      <td>&lt;=50K</td>\n",
       "    </tr>\n",
       "    <tr>\n",
       "      <th>1</th>\n",
       "      <td>50.0</td>\n",
       "      <td>Self-emp-not-inc</td>\n",
       "      <td>83311</td>\n",
       "      <td>Bachelors</td>\n",
       "      <td>13</td>\n",
       "      <td>Married-civ-spouse</td>\n",
       "      <td>Exec-managerial</td>\n",
       "      <td>Husband</td>\n",
       "      <td>White</td>\n",
       "      <td>Non-Female</td>\n",
       "      <td>0</td>\n",
       "      <td>0</td>\n",
       "      <td>13.0</td>\n",
       "      <td>United-States</td>\n",
       "      <td>&lt;=50K</td>\n",
       "    </tr>\n",
       "    <tr>\n",
       "      <th>2</th>\n",
       "      <td>38.0</td>\n",
       "      <td>Private</td>\n",
       "      <td>215646</td>\n",
       "      <td>HS-grad</td>\n",
       "      <td>9</td>\n",
       "      <td>Divorced</td>\n",
       "      <td>Handlers-cleaners</td>\n",
       "      <td>Not-in-family</td>\n",
       "      <td>White</td>\n",
       "      <td>Non-Female</td>\n",
       "      <td>0</td>\n",
       "      <td>0</td>\n",
       "      <td>40.0</td>\n",
       "      <td>United-States</td>\n",
       "      <td>&lt;=50K</td>\n",
       "    </tr>\n",
       "    <tr>\n",
       "      <th>3</th>\n",
       "      <td>53.0</td>\n",
       "      <td>Private</td>\n",
       "      <td>234721</td>\n",
       "      <td>11th</td>\n",
       "      <td>7</td>\n",
       "      <td>Married-civ-spouse</td>\n",
       "      <td>Handlers-cleaners</td>\n",
       "      <td>Husband</td>\n",
       "      <td>Black</td>\n",
       "      <td>Non-Female</td>\n",
       "      <td>0</td>\n",
       "      <td>0</td>\n",
       "      <td>40.0</td>\n",
       "      <td>United-States</td>\n",
       "      <td>&lt;=50K</td>\n",
       "    </tr>\n",
       "    <tr>\n",
       "      <th>4</th>\n",
       "      <td>28.0</td>\n",
       "      <td>Private</td>\n",
       "      <td>338409</td>\n",
       "      <td>Bachelors</td>\n",
       "      <td>13</td>\n",
       "      <td>Married-civ-spouse</td>\n",
       "      <td>Prof-specialty</td>\n",
       "      <td>Wife</td>\n",
       "      <td>Black</td>\n",
       "      <td>Female</td>\n",
       "      <td>0</td>\n",
       "      <td>0</td>\n",
       "      <td>40.0</td>\n",
       "      <td>Cuba</td>\n",
       "      <td>&lt;=50K</td>\n",
       "    </tr>\n",
       "    <tr>\n",
       "      <th>5</th>\n",
       "      <td>37.0</td>\n",
       "      <td>Private</td>\n",
       "      <td>284582</td>\n",
       "      <td>Masters</td>\n",
       "      <td>14</td>\n",
       "      <td>Married-civ-spouse</td>\n",
       "      <td>Exec-managerial</td>\n",
       "      <td>Wife</td>\n",
       "      <td>White</td>\n",
       "      <td>Female</td>\n",
       "      <td>0</td>\n",
       "      <td>0</td>\n",
       "      <td>40.0</td>\n",
       "      <td>United-States</td>\n",
       "      <td>&lt;=50K</td>\n",
       "    </tr>\n",
       "    <tr>\n",
       "      <th>6</th>\n",
       "      <td>49.0</td>\n",
       "      <td>Private</td>\n",
       "      <td>160187</td>\n",
       "      <td>9th</td>\n",
       "      <td>5</td>\n",
       "      <td>Married-spouse-absent</td>\n",
       "      <td>Other-service</td>\n",
       "      <td>Not-in-family</td>\n",
       "      <td>Black</td>\n",
       "      <td>Female</td>\n",
       "      <td>0</td>\n",
       "      <td>0</td>\n",
       "      <td>16.0</td>\n",
       "      <td>Jamaica</td>\n",
       "      <td>&lt;=50K</td>\n",
       "    </tr>\n",
       "    <tr>\n",
       "      <th>7</th>\n",
       "      <td>52.0</td>\n",
       "      <td>Self-emp-not-inc</td>\n",
       "      <td>209642</td>\n",
       "      <td>HS-grad</td>\n",
       "      <td>9</td>\n",
       "      <td>Married-civ-spouse</td>\n",
       "      <td>Exec-managerial</td>\n",
       "      <td>Husband</td>\n",
       "      <td>White</td>\n",
       "      <td>Non-Female</td>\n",
       "      <td>0</td>\n",
       "      <td>0</td>\n",
       "      <td>45.0</td>\n",
       "      <td>United-States</td>\n",
       "      <td>&gt;50K</td>\n",
       "    </tr>\n",
       "    <tr>\n",
       "      <th>8</th>\n",
       "      <td>31.0</td>\n",
       "      <td>Private</td>\n",
       "      <td>45781</td>\n",
       "      <td>Masters</td>\n",
       "      <td>14</td>\n",
       "      <td>Never-married</td>\n",
       "      <td>Prof-specialty</td>\n",
       "      <td>Not-in-family</td>\n",
       "      <td>White</td>\n",
       "      <td>Female</td>\n",
       "      <td>14084</td>\n",
       "      <td>0</td>\n",
       "      <td>50.0</td>\n",
       "      <td>United-States</td>\n",
       "      <td>&gt;50K</td>\n",
       "    </tr>\n",
       "    <tr>\n",
       "      <th>9</th>\n",
       "      <td>42.0</td>\n",
       "      <td>Private</td>\n",
       "      <td>159449</td>\n",
       "      <td>Bachelors</td>\n",
       "      <td>13</td>\n",
       "      <td>Married-civ-spouse</td>\n",
       "      <td>Exec-managerial</td>\n",
       "      <td>Husband</td>\n",
       "      <td>White</td>\n",
       "      <td>Non-Female</td>\n",
       "      <td>5178</td>\n",
       "      <td>0</td>\n",
       "      <td>40.0</td>\n",
       "      <td>United-States</td>\n",
       "      <td>&gt;50K</td>\n",
       "    </tr>\n",
       "  </tbody>\n",
       "</table>\n",
       "</div>"
      ],
      "text/plain": [
       "    age         workclass  fnlwgt  education  education-num  \\\n",
       "0  39.0         State-gov   77516  Bachelors             13   \n",
       "1  50.0  Self-emp-not-inc   83311  Bachelors             13   \n",
       "2  38.0           Private  215646    HS-grad              9   \n",
       "3  53.0           Private  234721       11th              7   \n",
       "4  28.0           Private  338409  Bachelors             13   \n",
       "5  37.0           Private  284582    Masters             14   \n",
       "6  49.0           Private  160187        9th              5   \n",
       "7  52.0  Self-emp-not-inc  209642    HS-grad              9   \n",
       "8  31.0           Private   45781    Masters             14   \n",
       "9  42.0           Private  159449  Bachelors             13   \n",
       "\n",
       "          marital-status         occupation   relationship   race  sex_selfID  \\\n",
       "0          Never-married       Adm-clerical  Not-in-family  White  Non-Female   \n",
       "1     Married-civ-spouse    Exec-managerial        Husband  White  Non-Female   \n",
       "2               Divorced  Handlers-cleaners  Not-in-family  White  Non-Female   \n",
       "3     Married-civ-spouse  Handlers-cleaners        Husband  Black  Non-Female   \n",
       "4     Married-civ-spouse     Prof-specialty           Wife  Black      Female   \n",
       "5     Married-civ-spouse    Exec-managerial           Wife  White      Female   \n",
       "6  Married-spouse-absent      Other-service  Not-in-family  Black      Female   \n",
       "7     Married-civ-spouse    Exec-managerial        Husband  White  Non-Female   \n",
       "8          Never-married     Prof-specialty  Not-in-family  White      Female   \n",
       "9     Married-civ-spouse    Exec-managerial        Husband  White  Non-Female   \n",
       "\n",
       "   capital-gain  capital-loss  hours-per-week native-country income_binary  \n",
       "0          2174             0            40.0  United-States         <=50K  \n",
       "1             0             0            13.0  United-States         <=50K  \n",
       "2             0             0            40.0  United-States         <=50K  \n",
       "3             0             0            40.0  United-States         <=50K  \n",
       "4             0             0            40.0           Cuba         <=50K  \n",
       "5             0             0            40.0  United-States         <=50K  \n",
       "6             0             0            16.0        Jamaica         <=50K  \n",
       "7             0             0            45.0  United-States          >50K  \n",
       "8         14084             0            50.0  United-States          >50K  \n",
       "9          5178             0            40.0  United-States          >50K  "
      ]
     },
     "execution_count": 2,
     "metadata": {},
     "output_type": "execute_result"
    }
   ],
   "source": [
    "# File names of the four data sets\n",
    "adultDataSet_filename = os.path.join(os.getcwd(), \"data\", \"censusData.csv\")\n",
    "airbnbDataSet_filename = os.path.join(os.getcwd(), \"data\", \"airbnbListingsData.csv\")\n",
    "WHRDataSet_filename = os.path.join(os.getcwd(), \"data\", \"WHR2018Chapter2OnlineData.csv\")\n",
    "bookReviewDataSet_filename = os.path.join(os.getcwd(), \"data\", \"bookReviewsData.csv\")\n",
    "\n",
    "\n",
    "df = pd.read_csv(adultDataSet_filename, header=0)\n",
    "df.head(10)"
   ]
  },
  {
   "cell_type": "code",
   "execution_count": 3,
   "metadata": {},
   "outputs": [
    {
     "data": {
      "text/plain": [
       "(32561, 15)"
      ]
     },
     "execution_count": 3,
     "metadata": {},
     "output_type": "execute_result"
    }
   ],
   "source": [
    "df.shape"
   ]
  },
  {
   "cell_type": "code",
   "execution_count": 4,
   "metadata": {},
   "outputs": [
    {
     "data": {
      "text/plain": [
       "Index(['age', 'workclass', 'fnlwgt', 'education', 'education-num',\n",
       "       'marital-status', 'occupation', 'relationship', 'race', 'sex_selfID',\n",
       "       'capital-gain', 'capital-loss', 'hours-per-week', 'native-country',\n",
       "       'income_binary'],\n",
       "      dtype='object')"
      ]
     },
     "execution_count": 4,
     "metadata": {},
     "output_type": "execute_result"
    }
   ],
   "source": [
    "df.columns"
   ]
  },
  {
   "cell_type": "markdown",
   "metadata": {},
   "source": [
    "## Part 2: Define Your ML Problem\n",
    "Next you will formulate your ML Problem. In the markdown cell below, answer the following questions: \n",
    "1. List the data set you have chosen.\n",
    "2. What will you be predicting? What is the label?\n",
    "3. Is this a supervised or unsupervised learning problem? Is this a clustering, classification or regression problem? is it a binary classificaiton or multi-class classifiction problem?\n",
    "4. What are your features? (note: this list may change after your explore your data)\n",
    "5. Explain why this is an important problem. In other words, how would a company create value with a model that predicts this label?"
   ]
  },
  {
   "cell_type": "markdown",
   "metadata": {},
   "source": [
    "1. I will use the 1994 census data.\n",
    "2. I will be predicting the amount of education years a person finishes thus the label will be education-num.\n",
    "3. This is a supervised regression problem.\n",
    "4. After examining the dataframe the features for now will be age, fnlwgt, education-num, marital-status, occupation, relationship, race, sex_selfID, capital gain, capital-loss, hours-per-week, native-country, and income_binary. Education will be droped because education and education num are saying the same thing just different ways and fnlwgt represents the number of peopole the census believes the entry represents which does not sound like a 100% confidence therefore I will drop it.\n",
    "5. This might be an important model for a company because it can be a way to see the impact of pursuing higher education to the individual and to society. Studying the number of education an individual's completes impacts can be a way to entice and encourage students to purse higher education because of the benefits\n"
   ]
  },
  {
   "cell_type": "code",
   "execution_count": 5,
   "metadata": {},
   "outputs": [
    {
     "data": {
      "text/plain": [
       "HS-grad         10501\n",
       "Some-college     7291\n",
       "Bachelors        5355\n",
       "Masters          1723\n",
       "Assoc-voc        1382\n",
       "11th             1175\n",
       "Assoc-acdm       1067\n",
       "10th              933\n",
       "7th-8th           646\n",
       "Prof-school       576\n",
       "9th               514\n",
       "12th              433\n",
       "Doctorate         413\n",
       "5th-6th           333\n",
       "1st-4th           168\n",
       "Preschool          51\n",
       "Name: education, dtype: int64"
      ]
     },
     "execution_count": 5,
     "metadata": {},
     "output_type": "execute_result"
    }
   ],
   "source": [
    "df['education'].value_counts()"
   ]
  },
  {
   "cell_type": "code",
   "execution_count": 6,
   "metadata": {},
   "outputs": [
    {
     "data": {
      "text/plain": [
       "16"
      ]
     },
     "execution_count": 6,
     "metadata": {},
     "output_type": "execute_result"
    }
   ],
   "source": [
    "df['education'].nunique()"
   ]
  },
  {
   "cell_type": "code",
   "execution_count": 7,
   "metadata": {},
   "outputs": [],
   "source": [
    "df = df.drop(columns = ['education'])\n",
    "df = df.drop(columns = ['fnlwgt'])"
   ]
  },
  {
   "cell_type": "code",
   "execution_count": 8,
   "metadata": {},
   "outputs": [
    {
     "data": {
      "text/plain": [
       "Index(['age', 'workclass', 'education-num', 'marital-status', 'occupation',\n",
       "       'relationship', 'race', 'sex_selfID', 'capital-gain', 'capital-loss',\n",
       "       'hours-per-week', 'native-country', 'income_binary'],\n",
       "      dtype='object')"
      ]
     },
     "execution_count": 8,
     "metadata": {},
     "output_type": "execute_result"
    }
   ],
   "source": [
    "df.columns"
   ]
  },
  {
   "cell_type": "code",
   "execution_count": 9,
   "metadata": {},
   "outputs": [
    {
     "data": {
      "text/plain": [
       "(32561, 13)"
      ]
     },
     "execution_count": 9,
     "metadata": {},
     "output_type": "execute_result"
    }
   ],
   "source": [
    "df.shape"
   ]
  },
  {
   "cell_type": "markdown",
   "metadata": {},
   "source": [
    "## Part 3: Understand Your Data\n",
    "\n",
    "The next step is to perform exploratory data analysis. Inspect and analyze your data set with your machine learning problem in mind. Consider the following as you inspect your data:\n",
    "\n",
    "1. What data preparation techniques would you like to use? These data preparation techniques may include:\n",
    "\n",
    "    * addressing missingness, such as replacing missing values with means\n",
    "    * finding and replacing outliers\n",
    "    * renaming features and labels\n",
    "    * finding and replacing outliers\n",
    "    * performing feature engineering techniques such as one-hot encoding on categorical features\n",
    "    * selecting appropriate features and removing irrelevant features\n",
    "    * performing specific data cleaning and preprocessing techniques for an NLP problem\n",
    "    * addressing class imbalance in your data sample to promote fair AI\n",
    "    * \n",
    "\n",
    "    I will be first identify missing values on all the columns then by datatype. If the column is numerical I can replace the missing values with the mean but if the column(s) is a string I will consider dropping the rows. In addressing outliers I will look at the standard deviation on numerical columns and winsorized them. I will not drop the original columns that has been winsorized until after anaylzing how the different percentage of those winsorized effects the correaltion. After winsorization I will one hot encode then check the correaltion of all the features to the label since all columns are now numerical. In addressing class imbalance I will only address the label's class imbalance.\n",
    "\n",
    "2. What machine learning model (or models) you would like to use that is suitable for your predictive problem and data?\n",
    "    * Are there other data preparation techniques that you will need to apply to build a balanced modeling data set for your problem and model? For example, will you need to scale your data?\n",
    " \n",
    " I will use decision tree, random forest, and gradient boosting decision tree. Some of the models can not handle missing data well so I will drop the rows that are especially important features like workclass and occupation as I want to see the impact of education number has on those features. \n",
    " \n",
    "3. How will you evaluate and improve the model's performance?\n",
    "    * Are there specific evaluation metrics and methods that are appropriate for your model?\n",
    "    I will use mean absolute error, root mean square error, and  R^2 because this is a regression problem. I will of course test out different hyperparameters to find the best for each model to ensure the best model performance.\n",
    "\n",
    "Think of the different techniques you have used to inspect and analyze your data in this course. These include using Pandas to apply data filters, using the Pandas `describe()` method to get insight into key statistics for each column, using the Pandas `dtypes` property to inspect the data type of each column, and using Matplotlib and Seaborn to detect outliers and visualize relationships between features and labels. If you are working on a classification problem, use techniques you have learned to determine if there is class imbalance.\n",
    "\n",
    "<b>Task</b>: Use the techniques you have learned in this course to inspect and analyze your data. You can import additional packages that you have used in this course that you will need to perform this task.\n",
    "\n",
    "<b>Note</b>: You can add code cells if needed by going to the <b>Insert</b> menu and clicking on <b>Insert Cell Below</b> in the drop-drown menu."
   ]
  },
  {
   "cell_type": "raw",
   "metadata": {},
   "source": [
    "Handling missing Data"
   ]
  },
  {
   "cell_type": "code",
   "execution_count": 10,
   "metadata": {},
   "outputs": [
    {
     "data": {
      "text/plain": [
       "age                162\n",
       "workclass         1836\n",
       "education-num        0\n",
       "marital-status       0\n",
       "occupation        1843\n",
       "relationship         0\n",
       "race                 0\n",
       "sex_selfID           0\n",
       "capital-gain         0\n",
       "capital-loss         0\n",
       "hours-per-week     325\n",
       "native-country     583\n",
       "income_binary        0\n",
       "dtype: int64"
      ]
     },
     "execution_count": 10,
     "metadata": {},
     "output_type": "execute_result"
    }
   ],
   "source": [
    "nan_count = np.sum(df.isnull(),axis = 0)\n",
    "nan_count"
   ]
  },
  {
   "cell_type": "raw",
   "metadata": {},
   "source": [
    "Workclass and occupation is very important when it comes to the impact of education on people and only 5% of it missing over all. \n",
    "Drop the rows that is missing workclass and occupation"
   ]
  },
  {
   "cell_type": "code",
   "execution_count": 11,
   "metadata": {},
   "outputs": [
    {
     "data": {
      "text/plain": [
       "age               float64\n",
       "workclass          object\n",
       "education-num       int64\n",
       "marital-status     object\n",
       "occupation         object\n",
       "relationship       object\n",
       "race               object\n",
       "sex_selfID         object\n",
       "capital-gain        int64\n",
       "capital-loss        int64\n",
       "hours-per-week    float64\n",
       "native-country     object\n",
       "income_binary      object\n",
       "dtype: object"
      ]
     },
     "execution_count": 11,
     "metadata": {},
     "output_type": "execute_result"
    }
   ],
   "source": [
    "df.dtypes"
   ]
  },
  {
   "cell_type": "code",
   "execution_count": 12,
   "metadata": {},
   "outputs": [
    {
     "name": "stdout",
     "output_type": "stream",
     "text": [
      "['workclass', 'occupation']\n"
     ]
    }
   ],
   "source": [
    "cols_to_check= ['workclass', 'occupation']\n",
    "print(cols_to_check)"
   ]
  },
  {
   "cell_type": "code",
   "execution_count": 13,
   "metadata": {},
   "outputs": [
    {
     "data": {
      "text/plain": [
       "0        False\n",
       "1        False\n",
       "2        False\n",
       "3        False\n",
       "4        False\n",
       "         ...  \n",
       "32556    False\n",
       "32557    False\n",
       "32558    False\n",
       "32559    False\n",
       "32560    False\n",
       "Length: 32561, dtype: bool"
      ]
     },
     "execution_count": 13,
     "metadata": {},
     "output_type": "execute_result"
    }
   ],
   "source": [
    "missing_values = df[cols_to_check].isnull().all(axis=1)\n",
    "missing_values"
   ]
  },
  {
   "cell_type": "code",
   "execution_count": 14,
   "metadata": {},
   "outputs": [],
   "source": [
    "df = df[~missing_values]"
   ]
  },
  {
   "cell_type": "raw",
   "metadata": {},
   "source": [
    "The effects of dropping the rows with missing workclass and occupation because it is string data "
   ]
  },
  {
   "cell_type": "code",
   "execution_count": 15,
   "metadata": {},
   "outputs": [
    {
     "data": {
      "text/plain": [
       "age               153\n",
       "workclass           0\n",
       "education-num       0\n",
       "marital-status      0\n",
       "occupation          7\n",
       "relationship        0\n",
       "race                0\n",
       "sex_selfID          0\n",
       "capital-gain        0\n",
       "capital-loss        0\n",
       "hours-per-week    301\n",
       "native-country    556\n",
       "income_binary       0\n",
       "dtype: int64"
      ]
     },
     "execution_count": 15,
     "metadata": {},
     "output_type": "execute_result"
    }
   ],
   "source": [
    "nan_count = np.sum(df.isnull(),axis = 0)\n",
    "nan_count"
   ]
  },
  {
   "cell_type": "code",
   "execution_count": 16,
   "metadata": {},
   "outputs": [],
   "source": [
    "df = df.dropna(subset = ['occupation'])"
   ]
  },
  {
   "cell_type": "code",
   "execution_count": 17,
   "metadata": {},
   "outputs": [
    {
     "data": {
      "text/plain": [
       "age               153\n",
       "workclass           0\n",
       "education-num       0\n",
       "marital-status      0\n",
       "occupation          0\n",
       "relationship        0\n",
       "race                0\n",
       "sex_selfID          0\n",
       "capital-gain        0\n",
       "capital-loss        0\n",
       "hours-per-week    300\n",
       "native-country    556\n",
       "income_binary       0\n",
       "dtype: int64"
      ]
     },
     "execution_count": 17,
     "metadata": {},
     "output_type": "execute_result"
    }
   ],
   "source": [
    "nan_count = np.sum(df.isnull(),axis = 0)\n",
    "nan_count"
   ]
  },
  {
   "cell_type": "code",
   "execution_count": 18,
   "metadata": {},
   "outputs": [
    {
     "data": {
      "text/plain": [
       "(30718, 13)"
      ]
     },
     "execution_count": 18,
     "metadata": {},
     "output_type": "execute_result"
    }
   ],
   "source": [
    "df.shape"
   ]
  },
  {
   "cell_type": "raw",
   "metadata": {},
   "source": [
    "Handling Missing data that are numbers by replacing it with the mean "
   ]
  },
  {
   "cell_type": "code",
   "execution_count": 19,
   "metadata": {},
   "outputs": [
    {
     "data": {
      "text/html": [
       "<div>\n",
       "<style scoped>\n",
       "    .dataframe tbody tr th:only-of-type {\n",
       "        vertical-align: middle;\n",
       "    }\n",
       "\n",
       "    .dataframe tbody tr th {\n",
       "        vertical-align: top;\n",
       "    }\n",
       "\n",
       "    .dataframe thead th {\n",
       "        text-align: right;\n",
       "    }\n",
       "</style>\n",
       "<table border=\"1\" class=\"dataframe\">\n",
       "  <thead>\n",
       "    <tr style=\"text-align: right;\">\n",
       "      <th></th>\n",
       "      <th>age</th>\n",
       "      <th>education-num</th>\n",
       "      <th>capital-gain</th>\n",
       "      <th>capital-loss</th>\n",
       "      <th>hours-per-week</th>\n",
       "    </tr>\n",
       "  </thead>\n",
       "  <tbody>\n",
       "    <tr>\n",
       "      <th>count</th>\n",
       "      <td>30565.000000</td>\n",
       "      <td>30718.000000</td>\n",
       "      <td>30718.000000</td>\n",
       "      <td>30718.000000</td>\n",
       "      <td>30418.000000</td>\n",
       "    </tr>\n",
       "    <tr>\n",
       "      <th>mean</th>\n",
       "      <td>38.448062</td>\n",
       "      <td>10.130314</td>\n",
       "      <td>630.954587</td>\n",
       "      <td>88.910216</td>\n",
       "      <td>40.960583</td>\n",
       "    </tr>\n",
       "    <tr>\n",
       "      <th>std</th>\n",
       "      <td>13.125337</td>\n",
       "      <td>2.562469</td>\n",
       "      <td>2453.058671</td>\n",
       "      <td>405.657203</td>\n",
       "      <td>11.994215</td>\n",
       "    </tr>\n",
       "    <tr>\n",
       "      <th>min</th>\n",
       "      <td>17.000000</td>\n",
       "      <td>1.000000</td>\n",
       "      <td>0.000000</td>\n",
       "      <td>0.000000</td>\n",
       "      <td>1.000000</td>\n",
       "    </tr>\n",
       "    <tr>\n",
       "      <th>25%</th>\n",
       "      <td>28.000000</td>\n",
       "      <td>9.000000</td>\n",
       "      <td>0.000000</td>\n",
       "      <td>0.000000</td>\n",
       "      <td>40.000000</td>\n",
       "    </tr>\n",
       "    <tr>\n",
       "      <th>50%</th>\n",
       "      <td>37.000000</td>\n",
       "      <td>10.000000</td>\n",
       "      <td>0.000000</td>\n",
       "      <td>0.000000</td>\n",
       "      <td>40.000000</td>\n",
       "    </tr>\n",
       "    <tr>\n",
       "      <th>75%</th>\n",
       "      <td>47.000000</td>\n",
       "      <td>13.000000</td>\n",
       "      <td>0.000000</td>\n",
       "      <td>0.000000</td>\n",
       "      <td>45.000000</td>\n",
       "    </tr>\n",
       "    <tr>\n",
       "      <th>max</th>\n",
       "      <td>90.000000</td>\n",
       "      <td>16.000000</td>\n",
       "      <td>14084.000000</td>\n",
       "      <td>4356.000000</td>\n",
       "      <td>99.000000</td>\n",
       "    </tr>\n",
       "  </tbody>\n",
       "</table>\n",
       "</div>"
      ],
      "text/plain": [
       "                age  education-num  capital-gain  capital-loss  hours-per-week\n",
       "count  30565.000000   30718.000000  30718.000000  30718.000000    30418.000000\n",
       "mean      38.448062      10.130314    630.954587     88.910216       40.960583\n",
       "std       13.125337       2.562469   2453.058671    405.657203       11.994215\n",
       "min       17.000000       1.000000      0.000000      0.000000        1.000000\n",
       "25%       28.000000       9.000000      0.000000      0.000000       40.000000\n",
       "50%       37.000000      10.000000      0.000000      0.000000       40.000000\n",
       "75%       47.000000      13.000000      0.000000      0.000000       45.000000\n",
       "max       90.000000      16.000000  14084.000000   4356.000000       99.000000"
      ]
     },
     "execution_count": 19,
     "metadata": {},
     "output_type": "execute_result"
    }
   ],
   "source": [
    "df.describe()"
   ]
  },
  {
   "cell_type": "code",
   "execution_count": 20,
   "metadata": {},
   "outputs": [
    {
     "data": {
      "text/plain": [
       "age                True\n",
       "workclass         False\n",
       "education-num     False\n",
       "marital-status    False\n",
       "occupation        False\n",
       "relationship      False\n",
       "race              False\n",
       "sex_selfID        False\n",
       "capital-gain      False\n",
       "capital-loss      False\n",
       "hours-per-week     True\n",
       "native-country     True\n",
       "income_binary     False\n",
       "dtype: bool"
      ]
     },
     "execution_count": 20,
     "metadata": {},
     "output_type": "execute_result"
    }
   ],
   "source": [
    "nan_deteched = nan_count !=0\n",
    "nan_deteched"
   ]
  },
  {
   "cell_type": "code",
   "execution_count": 21,
   "metadata": {},
   "outputs": [
    {
     "data": {
      "text/plain": [
       "age                True\n",
       "workclass         False\n",
       "education-num      True\n",
       "marital-status    False\n",
       "occupation        False\n",
       "relationship      False\n",
       "race              False\n",
       "sex_selfID        False\n",
       "capital-gain       True\n",
       "capital-loss       True\n",
       "hours-per-week     True\n",
       "native-country    False\n",
       "income_binary     False\n",
       "dtype: bool"
      ]
     },
     "execution_count": 21,
     "metadata": {},
     "output_type": "execute_result"
    }
   ],
   "source": [
    "is_int_or_float = (df.dtypes == 'int64') | (df.dtypes == 'float64')\n",
    "is_int_or_float"
   ]
  },
  {
   "cell_type": "code",
   "execution_count": 22,
   "metadata": {},
   "outputs": [
    {
     "data": {
      "text/plain": [
       "age                True\n",
       "workclass         False\n",
       "education-num     False\n",
       "marital-status    False\n",
       "occupation        False\n",
       "relationship      False\n",
       "race              False\n",
       "sex_selfID        False\n",
       "capital-gain      False\n",
       "capital-loss      False\n",
       "hours-per-week     True\n",
       "native-country    False\n",
       "income_binary     False\n",
       "dtype: bool"
      ]
     },
     "execution_count": 22,
     "metadata": {},
     "output_type": "execute_result"
    }
   ],
   "source": [
    "#list of features missing values that can be replaced with the mean\n",
    "to_mean = nan_deteched & is_int_or_float\n",
    "to_mean"
   ]
  },
  {
   "cell_type": "code",
   "execution_count": 23,
   "metadata": {},
   "outputs": [],
   "source": [
    "cols_to_mean = ['age', 'hours-per-week']"
   ]
  },
  {
   "cell_type": "code",
   "execution_count": 24,
   "metadata": {},
   "outputs": [
    {
     "data": {
      "text/plain": [
       "Index(['age', 'workclass', 'education-num', 'marital-status', 'occupation',\n",
       "       'relationship', 'race', 'sex_selfID', 'capital-gain', 'capital-loss',\n",
       "       'hours-per-week', 'native-country', 'income_binary'],\n",
       "      dtype='object')"
      ]
     },
     "execution_count": 24,
     "metadata": {},
     "output_type": "execute_result"
    }
   ],
   "source": [
    "df.columns"
   ]
  },
  {
   "cell_type": "code",
   "execution_count": 25,
   "metadata": {},
   "outputs": [],
   "source": [
    "#replace missing values with the mean\n",
    "for colname in cols_to_mean:\n",
    "    if df[colname].isnull().any():\n",
    "        mean = df[colname].mean()\n",
    "        df[colname].fillna(np.mean(df[colname]), inplace=True)\n"
   ]
  },
  {
   "cell_type": "code",
   "execution_count": 26,
   "metadata": {},
   "outputs": [
    {
     "data": {
      "text/html": [
       "<div>\n",
       "<style scoped>\n",
       "    .dataframe tbody tr th:only-of-type {\n",
       "        vertical-align: middle;\n",
       "    }\n",
       "\n",
       "    .dataframe tbody tr th {\n",
       "        vertical-align: top;\n",
       "    }\n",
       "\n",
       "    .dataframe thead th {\n",
       "        text-align: right;\n",
       "    }\n",
       "</style>\n",
       "<table border=\"1\" class=\"dataframe\">\n",
       "  <thead>\n",
       "    <tr style=\"text-align: right;\">\n",
       "      <th></th>\n",
       "      <th>age</th>\n",
       "      <th>workclass</th>\n",
       "      <th>education-num</th>\n",
       "      <th>marital-status</th>\n",
       "      <th>occupation</th>\n",
       "      <th>relationship</th>\n",
       "      <th>race</th>\n",
       "      <th>sex_selfID</th>\n",
       "      <th>capital-gain</th>\n",
       "      <th>capital-loss</th>\n",
       "      <th>hours-per-week</th>\n",
       "      <th>native-country</th>\n",
       "      <th>income_binary</th>\n",
       "    </tr>\n",
       "  </thead>\n",
       "  <tbody>\n",
       "    <tr>\n",
       "      <th>0</th>\n",
       "      <td>39.0</td>\n",
       "      <td>State-gov</td>\n",
       "      <td>13</td>\n",
       "      <td>Never-married</td>\n",
       "      <td>Adm-clerical</td>\n",
       "      <td>Not-in-family</td>\n",
       "      <td>White</td>\n",
       "      <td>Non-Female</td>\n",
       "      <td>2174</td>\n",
       "      <td>0</td>\n",
       "      <td>40.0</td>\n",
       "      <td>United-States</td>\n",
       "      <td>&lt;=50K</td>\n",
       "    </tr>\n",
       "    <tr>\n",
       "      <th>1</th>\n",
       "      <td>50.0</td>\n",
       "      <td>Self-emp-not-inc</td>\n",
       "      <td>13</td>\n",
       "      <td>Married-civ-spouse</td>\n",
       "      <td>Exec-managerial</td>\n",
       "      <td>Husband</td>\n",
       "      <td>White</td>\n",
       "      <td>Non-Female</td>\n",
       "      <td>0</td>\n",
       "      <td>0</td>\n",
       "      <td>13.0</td>\n",
       "      <td>United-States</td>\n",
       "      <td>&lt;=50K</td>\n",
       "    </tr>\n",
       "    <tr>\n",
       "      <th>2</th>\n",
       "      <td>38.0</td>\n",
       "      <td>Private</td>\n",
       "      <td>9</td>\n",
       "      <td>Divorced</td>\n",
       "      <td>Handlers-cleaners</td>\n",
       "      <td>Not-in-family</td>\n",
       "      <td>White</td>\n",
       "      <td>Non-Female</td>\n",
       "      <td>0</td>\n",
       "      <td>0</td>\n",
       "      <td>40.0</td>\n",
       "      <td>United-States</td>\n",
       "      <td>&lt;=50K</td>\n",
       "    </tr>\n",
       "    <tr>\n",
       "      <th>3</th>\n",
       "      <td>53.0</td>\n",
       "      <td>Private</td>\n",
       "      <td>7</td>\n",
       "      <td>Married-civ-spouse</td>\n",
       "      <td>Handlers-cleaners</td>\n",
       "      <td>Husband</td>\n",
       "      <td>Black</td>\n",
       "      <td>Non-Female</td>\n",
       "      <td>0</td>\n",
       "      <td>0</td>\n",
       "      <td>40.0</td>\n",
       "      <td>United-States</td>\n",
       "      <td>&lt;=50K</td>\n",
       "    </tr>\n",
       "    <tr>\n",
       "      <th>4</th>\n",
       "      <td>28.0</td>\n",
       "      <td>Private</td>\n",
       "      <td>13</td>\n",
       "      <td>Married-civ-spouse</td>\n",
       "      <td>Prof-specialty</td>\n",
       "      <td>Wife</td>\n",
       "      <td>Black</td>\n",
       "      <td>Female</td>\n",
       "      <td>0</td>\n",
       "      <td>0</td>\n",
       "      <td>40.0</td>\n",
       "      <td>Cuba</td>\n",
       "      <td>&lt;=50K</td>\n",
       "    </tr>\n",
       "    <tr>\n",
       "      <th>5</th>\n",
       "      <td>37.0</td>\n",
       "      <td>Private</td>\n",
       "      <td>14</td>\n",
       "      <td>Married-civ-spouse</td>\n",
       "      <td>Exec-managerial</td>\n",
       "      <td>Wife</td>\n",
       "      <td>White</td>\n",
       "      <td>Female</td>\n",
       "      <td>0</td>\n",
       "      <td>0</td>\n",
       "      <td>40.0</td>\n",
       "      <td>United-States</td>\n",
       "      <td>&lt;=50K</td>\n",
       "    </tr>\n",
       "    <tr>\n",
       "      <th>6</th>\n",
       "      <td>49.0</td>\n",
       "      <td>Private</td>\n",
       "      <td>5</td>\n",
       "      <td>Married-spouse-absent</td>\n",
       "      <td>Other-service</td>\n",
       "      <td>Not-in-family</td>\n",
       "      <td>Black</td>\n",
       "      <td>Female</td>\n",
       "      <td>0</td>\n",
       "      <td>0</td>\n",
       "      <td>16.0</td>\n",
       "      <td>Jamaica</td>\n",
       "      <td>&lt;=50K</td>\n",
       "    </tr>\n",
       "    <tr>\n",
       "      <th>7</th>\n",
       "      <td>52.0</td>\n",
       "      <td>Self-emp-not-inc</td>\n",
       "      <td>9</td>\n",
       "      <td>Married-civ-spouse</td>\n",
       "      <td>Exec-managerial</td>\n",
       "      <td>Husband</td>\n",
       "      <td>White</td>\n",
       "      <td>Non-Female</td>\n",
       "      <td>0</td>\n",
       "      <td>0</td>\n",
       "      <td>45.0</td>\n",
       "      <td>United-States</td>\n",
       "      <td>&gt;50K</td>\n",
       "    </tr>\n",
       "    <tr>\n",
       "      <th>8</th>\n",
       "      <td>31.0</td>\n",
       "      <td>Private</td>\n",
       "      <td>14</td>\n",
       "      <td>Never-married</td>\n",
       "      <td>Prof-specialty</td>\n",
       "      <td>Not-in-family</td>\n",
       "      <td>White</td>\n",
       "      <td>Female</td>\n",
       "      <td>14084</td>\n",
       "      <td>0</td>\n",
       "      <td>50.0</td>\n",
       "      <td>United-States</td>\n",
       "      <td>&gt;50K</td>\n",
       "    </tr>\n",
       "    <tr>\n",
       "      <th>9</th>\n",
       "      <td>42.0</td>\n",
       "      <td>Private</td>\n",
       "      <td>13</td>\n",
       "      <td>Married-civ-spouse</td>\n",
       "      <td>Exec-managerial</td>\n",
       "      <td>Husband</td>\n",
       "      <td>White</td>\n",
       "      <td>Non-Female</td>\n",
       "      <td>5178</td>\n",
       "      <td>0</td>\n",
       "      <td>40.0</td>\n",
       "      <td>United-States</td>\n",
       "      <td>&gt;50K</td>\n",
       "    </tr>\n",
       "  </tbody>\n",
       "</table>\n",
       "</div>"
      ],
      "text/plain": [
       "    age         workclass  education-num         marital-status  \\\n",
       "0  39.0         State-gov             13          Never-married   \n",
       "1  50.0  Self-emp-not-inc             13     Married-civ-spouse   \n",
       "2  38.0           Private              9               Divorced   \n",
       "3  53.0           Private              7     Married-civ-spouse   \n",
       "4  28.0           Private             13     Married-civ-spouse   \n",
       "5  37.0           Private             14     Married-civ-spouse   \n",
       "6  49.0           Private              5  Married-spouse-absent   \n",
       "7  52.0  Self-emp-not-inc              9     Married-civ-spouse   \n",
       "8  31.0           Private             14          Never-married   \n",
       "9  42.0           Private             13     Married-civ-spouse   \n",
       "\n",
       "          occupation   relationship   race  sex_selfID  capital-gain  \\\n",
       "0       Adm-clerical  Not-in-family  White  Non-Female          2174   \n",
       "1    Exec-managerial        Husband  White  Non-Female             0   \n",
       "2  Handlers-cleaners  Not-in-family  White  Non-Female             0   \n",
       "3  Handlers-cleaners        Husband  Black  Non-Female             0   \n",
       "4     Prof-specialty           Wife  Black      Female             0   \n",
       "5    Exec-managerial           Wife  White      Female             0   \n",
       "6      Other-service  Not-in-family  Black      Female             0   \n",
       "7    Exec-managerial        Husband  White  Non-Female             0   \n",
       "8     Prof-specialty  Not-in-family  White      Female         14084   \n",
       "9    Exec-managerial        Husband  White  Non-Female          5178   \n",
       "\n",
       "   capital-loss  hours-per-week native-country income_binary  \n",
       "0             0            40.0  United-States         <=50K  \n",
       "1             0            13.0  United-States         <=50K  \n",
       "2             0            40.0  United-States         <=50K  \n",
       "3             0            40.0  United-States         <=50K  \n",
       "4             0            40.0           Cuba         <=50K  \n",
       "5             0            40.0  United-States         <=50K  \n",
       "6             0            16.0        Jamaica         <=50K  \n",
       "7             0            45.0  United-States          >50K  \n",
       "8             0            50.0  United-States          >50K  \n",
       "9             0            40.0  United-States          >50K  "
      ]
     },
     "execution_count": 26,
     "metadata": {},
     "output_type": "execute_result"
    }
   ],
   "source": [
    "df.head(10)"
   ]
  },
  {
   "cell_type": "code",
   "execution_count": 27,
   "metadata": {},
   "outputs": [
    {
     "name": "stdout",
     "output_type": "stream",
     "text": [
      "age missing values count:  0\n",
      "hours-per-week missing values count:  0\n"
     ]
    }
   ],
   "source": [
    "for colname in cols_to_mean:\n",
    "    print(colname, \"missing values count: \", np.sum(df[colname].isnull(), axis = 0))"
   ]
  },
  {
   "cell_type": "code",
   "execution_count": 28,
   "metadata": {},
   "outputs": [
    {
     "data": {
      "text/plain": [
       "age               float64\n",
       "workclass          object\n",
       "education-num       int64\n",
       "marital-status     object\n",
       "occupation         object\n",
       "relationship       object\n",
       "race               object\n",
       "sex_selfID         object\n",
       "capital-gain        int64\n",
       "capital-loss        int64\n",
       "hours-per-week    float64\n",
       "native-country     object\n",
       "income_binary      object\n",
       "dtype: object"
      ]
     },
     "execution_count": 28,
     "metadata": {},
     "output_type": "execute_result"
    }
   ],
   "source": [
    "df.dtypes"
   ]
  },
  {
   "cell_type": "raw",
   "metadata": {},
   "source": [
    "Addressing Class Imbalance"
   ]
  },
  {
   "cell_type": "raw",
   "metadata": {},
   "source": [
    "To address the class imbalance I will perform oversampling where I will increase the number of instances of the minority \n",
    "classes"
   ]
  },
  {
   "cell_type": "code",
   "execution_count": 29,
   "metadata": {},
   "outputs": [
    {
     "data": {
      "text/plain": [
       "<AxesSubplot: ylabel='education-num'>"
      ]
     },
     "execution_count": 29,
     "metadata": {},
     "output_type": "execute_result"
    },
    {
     "data": {
      "image/png": "[encoded data removed]",
      "text/plain": [
       "<Figure size 640x480 with 1 Axes>"
      ]
     },
     "metadata": {},
     "output_type": "display_data"
    }
   ],
   "source": [
    "df['education-num'].value_counts().plot.pie(autopct= '%.2f') "
   ]
  },
  {
   "cell_type": "code",
   "execution_count": 30,
   "metadata": {},
   "outputs": [],
   "source": [
    "y = df['education-num']\n",
    "X = df.drop(columns = ['education-num'])\n",
    "\n",
    "ros = RandomOverSampler(random_state=0)\n",
    "\n",
    "X_resampled,y_resampled = ros.fit_resample(X,y)\n",
    "df_resampled = pd.DataFrame(X_resampled, columns=X.columns)\n",
    "df_resampled['education-num'] = y_resampled\n"
   ]
  },
  {
   "cell_type": "code",
   "execution_count": 31,
   "metadata": {},
   "outputs": [
    {
     "data": {
      "text/html": [
       "<div>\n",
       "<style scoped>\n",
       "    .dataframe tbody tr th:only-of-type {\n",
       "        vertical-align: middle;\n",
       "    }\n",
       "\n",
       "    .dataframe tbody tr th {\n",
       "        vertical-align: top;\n",
       "    }\n",
       "\n",
       "    .dataframe thead th {\n",
       "        text-align: right;\n",
       "    }\n",
       "</style>\n",
       "<table border=\"1\" class=\"dataframe\">\n",
       "  <thead>\n",
       "    <tr style=\"text-align: right;\">\n",
       "      <th></th>\n",
       "      <th>age</th>\n",
       "      <th>workclass</th>\n",
       "      <th>marital-status</th>\n",
       "      <th>occupation</th>\n",
       "      <th>relationship</th>\n",
       "      <th>race</th>\n",
       "      <th>sex_selfID</th>\n",
       "      <th>capital-gain</th>\n",
       "      <th>capital-loss</th>\n",
       "      <th>hours-per-week</th>\n",
       "      <th>native-country</th>\n",
       "      <th>income_binary</th>\n",
       "      <th>education-num</th>\n",
       "    </tr>\n",
       "  </thead>\n",
       "  <tbody>\n",
       "    <tr>\n",
       "      <th>0</th>\n",
       "      <td>39.0</td>\n",
       "      <td>State-gov</td>\n",
       "      <td>Never-married</td>\n",
       "      <td>Adm-clerical</td>\n",
       "      <td>Not-in-family</td>\n",
       "      <td>White</td>\n",
       "      <td>Non-Female</td>\n",
       "      <td>2174</td>\n",
       "      <td>0</td>\n",
       "      <td>40.0</td>\n",
       "      <td>United-States</td>\n",
       "      <td>&lt;=50K</td>\n",
       "      <td>13</td>\n",
       "    </tr>\n",
       "    <tr>\n",
       "      <th>1</th>\n",
       "      <td>50.0</td>\n",
       "      <td>Self-emp-not-inc</td>\n",
       "      <td>Married-civ-spouse</td>\n",
       "      <td>Exec-managerial</td>\n",
       "      <td>Husband</td>\n",
       "      <td>White</td>\n",
       "      <td>Non-Female</td>\n",
       "      <td>0</td>\n",
       "      <td>0</td>\n",
       "      <td>13.0</td>\n",
       "      <td>United-States</td>\n",
       "      <td>&lt;=50K</td>\n",
       "      <td>13</td>\n",
       "    </tr>\n",
       "    <tr>\n",
       "      <th>2</th>\n",
       "      <td>38.0</td>\n",
       "      <td>Private</td>\n",
       "      <td>Divorced</td>\n",
       "      <td>Handlers-cleaners</td>\n",
       "      <td>Not-in-family</td>\n",
       "      <td>White</td>\n",
       "      <td>Non-Female</td>\n",
       "      <td>0</td>\n",
       "      <td>0</td>\n",
       "      <td>40.0</td>\n",
       "      <td>United-States</td>\n",
       "      <td>&lt;=50K</td>\n",
       "      <td>9</td>\n",
       "    </tr>\n",
       "    <tr>\n",
       "      <th>3</th>\n",
       "      <td>53.0</td>\n",
       "      <td>Private</td>\n",
       "      <td>Married-civ-spouse</td>\n",
       "      <td>Handlers-cleaners</td>\n",
       "      <td>Husband</td>\n",
       "      <td>Black</td>\n",
       "      <td>Non-Female</td>\n",
       "      <td>0</td>\n",
       "      <td>0</td>\n",
       "      <td>40.0</td>\n",
       "      <td>United-States</td>\n",
       "      <td>&lt;=50K</td>\n",
       "      <td>7</td>\n",
       "    </tr>\n",
       "    <tr>\n",
       "      <th>4</th>\n",
       "      <td>28.0</td>\n",
       "      <td>Private</td>\n",
       "      <td>Married-civ-spouse</td>\n",
       "      <td>Prof-specialty</td>\n",
       "      <td>Wife</td>\n",
       "      <td>Black</td>\n",
       "      <td>Female</td>\n",
       "      <td>0</td>\n",
       "      <td>0</td>\n",
       "      <td>40.0</td>\n",
       "      <td>Cuba</td>\n",
       "      <td>&lt;=50K</td>\n",
       "      <td>13</td>\n",
       "    </tr>\n",
       "  </tbody>\n",
       "</table>\n",
       "</div>"
      ],
      "text/plain": [
       "    age         workclass      marital-status         occupation  \\\n",
       "0  39.0         State-gov       Never-married       Adm-clerical   \n",
       "1  50.0  Self-emp-not-inc  Married-civ-spouse    Exec-managerial   \n",
       "2  38.0           Private            Divorced  Handlers-cleaners   \n",
       "3  53.0           Private  Married-civ-spouse  Handlers-cleaners   \n",
       "4  28.0           Private  Married-civ-spouse     Prof-specialty   \n",
       "\n",
       "    relationship   race  sex_selfID  capital-gain  capital-loss  \\\n",
       "0  Not-in-family  White  Non-Female          2174             0   \n",
       "1        Husband  White  Non-Female             0             0   \n",
       "2  Not-in-family  White  Non-Female             0             0   \n",
       "3        Husband  Black  Non-Female             0             0   \n",
       "4           Wife  Black      Female             0             0   \n",
       "\n",
       "   hours-per-week native-country income_binary  education-num  \n",
       "0            40.0  United-States         <=50K             13  \n",
       "1            13.0  United-States         <=50K             13  \n",
       "2            40.0  United-States         <=50K              9  \n",
       "3            40.0  United-States         <=50K              7  \n",
       "4            40.0           Cuba         <=50K             13  "
      ]
     },
     "execution_count": 31,
     "metadata": {},
     "output_type": "execute_result"
    }
   ],
   "source": [
    "df_resampled.head()"
   ]
  },
  {
   "cell_type": "code",
   "execution_count": 32,
   "metadata": {},
   "outputs": [
    {
     "data": {
      "image/png": "[encoded data removed]",
      "text/plain": [
       "<Figure size 640x480 with 1 Axes>"
      ]
     },
     "metadata": {},
     "output_type": "display_data"
    }
   ],
   "source": [
    "df = df_resampled\n",
    "df['education-num'].value_counts().plot.pie(autopct= '%.2f') \n",
    "plt.show()"
   ]
  },
  {
   "cell_type": "raw",
   "metadata": {},
   "source": [
    "One-hot encoding on categorial values"
   ]
  },
  {
   "cell_type": "code",
   "execution_count": 33,
   "metadata": {},
   "outputs": [
    {
     "data": {
      "text/plain": [
       "workclass          7\n",
       "marital-status     7\n",
       "occupation        14\n",
       "relationship       6\n",
       "race               5\n",
       "sex_selfID         2\n",
       "native-country    41\n",
       "income_binary      2\n",
       "dtype: int64"
      ]
     },
     "execution_count": 33,
     "metadata": {},
     "output_type": "execute_result"
    }
   ],
   "source": [
    "to_encode = (df.select_dtypes(include=['object']).columns)\n",
    "df[to_encode].nunique()"
   ]
  },
  {
   "cell_type": "raw",
   "metadata": {},
   "source": [
    "Drop native country because that is too much to one hot encode and too many missing values"
   ]
  },
  {
   "cell_type": "code",
   "execution_count": 34,
   "metadata": {},
   "outputs": [],
   "source": [
    "df = df.drop(columns = ['native-country'])"
   ]
  },
  {
   "cell_type": "code",
   "execution_count": 35,
   "metadata": {},
   "outputs": [
    {
     "data": {
      "text/plain": [
       "Index(['age', 'workclass', 'marital-status', 'occupation', 'relationship',\n",
       "       'race', 'sex_selfID', 'capital-gain', 'capital-loss', 'hours-per-week',\n",
       "       'income_binary', 'education-num'],\n",
       "      dtype='object')"
      ]
     },
     "execution_count": 35,
     "metadata": {},
     "output_type": "execute_result"
    }
   ],
   "source": [
    "df.columns"
   ]
  },
  {
   "cell_type": "code",
   "execution_count": 36,
   "metadata": {},
   "outputs": [],
   "source": [
    "cols_to_encode = (df.select_dtypes(include=['object']).columns)\n",
    "for col in cols_to_encode:\n",
    "    dummies = pd.get_dummies(df[col],prefix=f\"{col}_\", drop_first=False)\n",
    "    df = df.join(dummies)\n",
    "    df = df.drop(columns = [col])\n"
   ]
  },
  {
   "cell_type": "code",
   "execution_count": 37,
   "metadata": {},
   "outputs": [
    {
     "data": {
      "text/plain": [
       "Index(['age', 'capital-gain', 'capital-loss', 'hours-per-week',\n",
       "       'education-num', 'workclass__Federal-gov', 'workclass__Local-gov',\n",
       "       'workclass__Private', 'workclass__Self-emp-inc',\n",
       "       'workclass__Self-emp-not-inc', 'workclass__State-gov',\n",
       "       'workclass__Without-pay', 'marital-status__Divorced',\n",
       "       'marital-status__Married-AF-spouse',\n",
       "       'marital-status__Married-civ-spouse',\n",
       "       'marital-status__Married-spouse-absent',\n",
       "       'marital-status__Never-married', 'marital-status__Separated',\n",
       "       'marital-status__Widowed', 'occupation__Adm-clerical',\n",
       "       'occupation__Armed-Forces', 'occupation__Craft-repair',\n",
       "       'occupation__Exec-managerial', 'occupation__Farming-fishing',\n",
       "       'occupation__Handlers-cleaners', 'occupation__Machine-op-inspct',\n",
       "       'occupation__Other-service', 'occupation__Priv-house-serv',\n",
       "       'occupation__Prof-specialty', 'occupation__Protective-serv',\n",
       "       'occupation__Sales', 'occupation__Tech-support',\n",
       "       'occupation__Transport-moving', 'relationship__Husband',\n",
       "       'relationship__Not-in-family', 'relationship__Other-relative',\n",
       "       'relationship__Own-child', 'relationship__Unmarried',\n",
       "       'relationship__Wife', 'race__Amer-Indian-Inuit',\n",
       "       'race__Asian-Pac-Islander', 'race__Black', 'race__Other', 'race__White',\n",
       "       'sex_selfID__Female', 'sex_selfID__Non-Female', 'income_binary__<=50K',\n",
       "       'income_binary__>50K'],\n",
       "      dtype='object')"
      ]
     },
     "execution_count": 37,
     "metadata": {},
     "output_type": "execute_result"
    }
   ],
   "source": [
    "df.columns"
   ]
  },
  {
   "cell_type": "raw",
   "metadata": {},
   "source": [
    "Handling outliers"
   ]
  },
  {
   "cell_type": "code",
   "execution_count": 38,
   "metadata": {},
   "outputs": [
    {
     "data": {
      "text/plain": [
       "<AxesSubplot: >"
      ]
     },
     "execution_count": 38,
     "metadata": {},
     "output_type": "execute_result"
    },
    {
     "data": {
      "image/png": "[encoded data removed]",
      "text/plain": [
       "<Figure size 640x480 with 1 Axes>"
      ]
     },
     "metadata": {},
     "output_type": "display_data"
    }
   ],
   "source": [
    "df['capital-gain'].plot(kind='box')"
   ]
  },
  {
   "cell_type": "code",
   "execution_count": 39,
   "metadata": {},
   "outputs": [],
   "source": [
    "df['capital-gain-winsor'] = stats.mstats.winsorize(df['capital-gain'], limits =[0.04,0.04])"
   ]
  },
  {
   "cell_type": "code",
   "execution_count": 40,
   "metadata": {},
   "outputs": [
    {
     "data": {
      "text/plain": [
       "<AxesSubplot: >"
      ]
     },
     "execution_count": 40,
     "metadata": {},
     "output_type": "execute_result"
    },
    {
     "data": {
      "image/png": "[encoded data removed]",
      "text/plain": [
       "<Figure size 640x480 with 1 Axes>"
      ]
     },
     "metadata": {},
     "output_type": "display_data"
    }
   ],
   "source": [
    "df['capital-gain-winsor'].plot(kind='box')"
   ]
  },
  {
   "cell_type": "code",
   "execution_count": 41,
   "metadata": {},
   "outputs": [
    {
     "data": {
      "text/plain": [
       "<AxesSubplot: >"
      ]
     },
     "execution_count": 41,
     "metadata": {},
     "output_type": "execute_result"
    },
    {
     "data": {
      "image/png": "[encoded data removed]",
      "text/plain": [
       "<Figure size 640x480 with 1 Axes>"
      ]
     },
     "metadata": {},
     "output_type": "display_data"
    }
   ],
   "source": [
    "df['capital-loss'].plot(kind='box')"
   ]
  },
  {
   "cell_type": "code",
   "execution_count": 42,
   "metadata": {},
   "outputs": [],
   "source": [
    "df['capital-loss-winsor'] = stats.mstats.winsorize(df['capital-loss'], limits =[0.02,0.02])"
   ]
  },
  {
   "cell_type": "code",
   "execution_count": 43,
   "metadata": {},
   "outputs": [
    {
     "data": {
      "text/plain": [
       "<AxesSubplot: >"
      ]
     },
     "execution_count": 43,
     "metadata": {},
     "output_type": "execute_result"
    },
    {
     "data": {
      "image/png": "[encoded data removed]",
      "text/plain": [
       "<Figure size 640x480 with 1 Axes>"
      ]
     },
     "metadata": {},
     "output_type": "display_data"
    }
   ],
   "source": [
    "df['capital-loss-winsor'].plot(kind='box')"
   ]
  },
  {
   "cell_type": "code",
   "execution_count": 44,
   "metadata": {},
   "outputs": [
    {
     "data": {
      "text/plain": [
       "Index(['age', 'capital-gain', 'capital-loss', 'hours-per-week',\n",
       "       'education-num', 'workclass__Federal-gov', 'workclass__Local-gov',\n",
       "       'workclass__Private', 'workclass__Self-emp-inc',\n",
       "       'workclass__Self-emp-not-inc', 'workclass__State-gov',\n",
       "       'workclass__Without-pay', 'marital-status__Divorced',\n",
       "       'marital-status__Married-AF-spouse',\n",
       "       'marital-status__Married-civ-spouse',\n",
       "       'marital-status__Married-spouse-absent',\n",
       "       'marital-status__Never-married', 'marital-status__Separated',\n",
       "       'marital-status__Widowed', 'occupation__Adm-clerical',\n",
       "       'occupation__Armed-Forces', 'occupation__Craft-repair',\n",
       "       'occupation__Exec-managerial', 'occupation__Farming-fishing',\n",
       "       'occupation__Handlers-cleaners', 'occupation__Machine-op-inspct',\n",
       "       'occupation__Other-service', 'occupation__Priv-house-serv',\n",
       "       'occupation__Prof-specialty', 'occupation__Protective-serv',\n",
       "       'occupation__Sales', 'occupation__Tech-support',\n",
       "       'occupation__Transport-moving', 'relationship__Husband',\n",
       "       'relationship__Not-in-family', 'relationship__Other-relative',\n",
       "       'relationship__Own-child', 'relationship__Unmarried',\n",
       "       'relationship__Wife', 'race__Amer-Indian-Inuit',\n",
       "       'race__Asian-Pac-Islander', 'race__Black', 'race__Other', 'race__White',\n",
       "       'sex_selfID__Female', 'sex_selfID__Non-Female', 'income_binary__<=50K',\n",
       "       'income_binary__>50K', 'capital-gain-winsor', 'capital-loss-winsor'],\n",
       "      dtype='object')"
      ]
     },
     "execution_count": 44,
     "metadata": {},
     "output_type": "execute_result"
    }
   ],
   "source": [
    "df.columns"
   ]
  },
  {
   "cell_type": "code",
   "execution_count": 45,
   "metadata": {},
   "outputs": [
    {
     "name": "stdout",
     "output_type": "stream",
     "text": [
      "        capital-gain  capital-gain-winsor   capital-loss  capital-loss-winsor\n",
      "count  159488.000000        159488.000000  159488.000000        159488.000000\n",
      "mean      715.097368           507.519255      96.736450            91.698968\n",
      "std      2718.962964          1777.182069     428.379705           401.508996\n",
      "min         0.000000             0.000000       0.000000             0.000000\n",
      "25%         0.000000             0.000000       0.000000             0.000000\n",
      "50%         0.000000             0.000000       0.000000             0.000000\n",
      "75%         0.000000             0.000000       0.000000             0.000000\n",
      "max     14084.000000          7688.000000    4356.000000          1977.000000\n"
     ]
    }
   ],
   "source": [
    "winsor_impact = df[['capital-gain', 'capital-gain-winsor','capital-loss', 'capital-loss-winsor']].describe()\n",
    "print(winsor_impact)"
   ]
  },
  {
   "cell_type": "code",
   "execution_count": 46,
   "metadata": {},
   "outputs": [],
   "source": [
    "corr_maxtrix = round(df.corr(),5)"
   ]
  },
  {
   "cell_type": "code",
   "execution_count": 47,
   "metadata": {},
   "outputs": [],
   "source": [
    "corrs = corr_maxtrix['education-num']"
   ]
  },
  {
   "cell_type": "raw",
   "metadata": {},
   "source": [
    "Based on correlation the number of education a person finishes is related to the income being more than 50k, capital gain,\n",
    "and the type of occupation."
   ]
  },
  {
   "cell_type": "code",
   "execution_count": 48,
   "metadata": {},
   "outputs": [
    {
     "name": "stdout",
     "output_type": "stream",
     "text": [
      "education-num                            1.00000\n",
      "occupation__Prof-specialty               0.55567\n",
      "income_binary__>50K                      0.51053\n",
      "occupation__Exec-managerial              0.23190\n",
      "capital-gain                             0.22971\n",
      "hours-per-week                           0.22042\n",
      "capital-gain-winsor                      0.22008\n",
      "workclass__State-gov                     0.17446\n",
      "workclass__Self-emp-inc                  0.13845\n",
      "relationship__Husband                    0.13524\n",
      "marital-status__Married-civ-spouse       0.12449\n",
      "workclass__Federal-gov                   0.11500\n",
      "capital-loss-winsor                      0.11349\n",
      "capital-loss                             0.11329\n",
      "race__White                              0.09457\n",
      "occupation__Tech-support                 0.08734\n",
      "workclass__Local-gov                     0.07781\n",
      "workclass__Self-emp-not-inc              0.07662\n",
      "occupation__Adm-clerical                 0.07023\n",
      "marital-status__Divorced                 0.06891\n",
      "occupation__Sales                        0.04565\n",
      "relationship__Wife                       0.04267\n",
      "occupation__Protective-serv              0.02565\n",
      "marital-status__Married-AF-spouse        0.00853\n",
      "age                                      0.00819\n",
      "sex_selfID__Non-Female                   0.00802\n",
      "occupation__Armed-Forces                 0.00307\n",
      "race__Asian-Pac-Islander                 0.00047\n",
      "workclass__Without-pay                  -0.00464\n",
      "sex_selfID__Female                      -0.00802\n",
      "relationship__Not-in-family             -0.01754\n",
      "race__Amer-Indian-Inuit                 -0.01972\n",
      "relationship__Unmarried                 -0.03917\n",
      "marital-status__Separated               -0.05579\n",
      "race__Black                             -0.06864\n",
      "relationship__Own-child                 -0.06938\n",
      "marital-status__Never-married           -0.08587\n",
      "occupation__Transport-moving            -0.09745\n",
      "marital-status__Widowed                 -0.09792\n",
      "race__Other                             -0.10026\n",
      "marital-status__Married-spouse-absent   -0.10612\n",
      "occupation__Priv-house-serv             -0.13314\n",
      "occupation__Craft-repair                -0.13472\n",
      "occupation__Handlers-cleaners           -0.15088\n",
      "relationship__Other-relative            -0.15719\n",
      "occupation__Farming-fishing             -0.20460\n",
      "occupation__Machine-op-inspct           -0.24152\n",
      "occupation__Other-service               -0.26450\n",
      "workclass__Private                      -0.27458\n",
      "income_binary__<=50K                    -0.51053\n",
      "Name: education-num, dtype: float64\n"
     ]
    }
   ],
   "source": [
    "corrs_sorted = corrs.sort_values(ascending=False)\n",
    "print(corrs_sorted)"
   ]
  },
  {
   "cell_type": "raw",
   "metadata": {},
   "source": [
    "Dropping the original columns of capital gain and capital loss because I wanted to see if the percentage I winsorize effected\n",
    "the correlation."
   ]
  },
  {
   "cell_type": "code",
   "execution_count": 49,
   "metadata": {},
   "outputs": [],
   "source": [
    "cols_to_drop = ['capital-gain', 'capital-loss']\n",
    "df = df.drop(columns = cols_to_drop)"
   ]
  },
  {
   "cell_type": "code",
   "execution_count": 50,
   "metadata": {},
   "outputs": [
    {
     "data": {
      "text/html": [
       "<div>\n",
       "<style scoped>\n",
       "    .dataframe tbody tr th:only-of-type {\n",
       "        vertical-align: middle;\n",
       "    }\n",
       "\n",
       "    .dataframe tbody tr th {\n",
       "        vertical-align: top;\n",
       "    }\n",
       "\n",
       "    .dataframe thead th {\n",
       "        text-align: right;\n",
       "    }\n",
       "</style>\n",
       "<table border=\"1\" class=\"dataframe\">\n",
       "  <thead>\n",
       "    <tr style=\"text-align: right;\">\n",
       "      <th></th>\n",
       "      <th>income_binary__&gt;50K</th>\n",
       "      <th>occupation__Prof-specialty</th>\n",
       "      <th>capital-gain-winsor</th>\n",
       "      <th>label education-num</th>\n",
       "    </tr>\n",
       "  </thead>\n",
       "  <tbody>\n",
       "    <tr>\n",
       "      <th>0</th>\n",
       "      <td>0</td>\n",
       "      <td>0</td>\n",
       "      <td>2174</td>\n",
       "      <td>13</td>\n",
       "    </tr>\n",
       "    <tr>\n",
       "      <th>1</th>\n",
       "      <td>0</td>\n",
       "      <td>0</td>\n",
       "      <td>0</td>\n",
       "      <td>13</td>\n",
       "    </tr>\n",
       "    <tr>\n",
       "      <th>2</th>\n",
       "      <td>0</td>\n",
       "      <td>0</td>\n",
       "      <td>0</td>\n",
       "      <td>9</td>\n",
       "    </tr>\n",
       "    <tr>\n",
       "      <th>3</th>\n",
       "      <td>0</td>\n",
       "      <td>0</td>\n",
       "      <td>0</td>\n",
       "      <td>7</td>\n",
       "    </tr>\n",
       "    <tr>\n",
       "      <th>4</th>\n",
       "      <td>0</td>\n",
       "      <td>1</td>\n",
       "      <td>0</td>\n",
       "      <td>13</td>\n",
       "    </tr>\n",
       "    <tr>\n",
       "      <th>...</th>\n",
       "      <td>...</td>\n",
       "      <td>...</td>\n",
       "      <td>...</td>\n",
       "      <td>...</td>\n",
       "    </tr>\n",
       "    <tr>\n",
       "      <th>159483</th>\n",
       "      <td>1</td>\n",
       "      <td>0</td>\n",
       "      <td>0</td>\n",
       "      <td>16</td>\n",
       "    </tr>\n",
       "    <tr>\n",
       "      <th>159484</th>\n",
       "      <td>1</td>\n",
       "      <td>1</td>\n",
       "      <td>0</td>\n",
       "      <td>16</td>\n",
       "    </tr>\n",
       "    <tr>\n",
       "      <th>159485</th>\n",
       "      <td>1</td>\n",
       "      <td>0</td>\n",
       "      <td>7688</td>\n",
       "      <td>16</td>\n",
       "    </tr>\n",
       "    <tr>\n",
       "      <th>159486</th>\n",
       "      <td>0</td>\n",
       "      <td>1</td>\n",
       "      <td>4931</td>\n",
       "      <td>16</td>\n",
       "    </tr>\n",
       "    <tr>\n",
       "      <th>159487</th>\n",
       "      <td>1</td>\n",
       "      <td>1</td>\n",
       "      <td>0</td>\n",
       "      <td>16</td>\n",
       "    </tr>\n",
       "  </tbody>\n",
       "</table>\n",
       "<p>159488 rows × 4 columns</p>\n",
       "</div>"
      ],
      "text/plain": [
       "        income_binary__>50K  occupation__Prof-specialty  capital-gain-winsor  \\\n",
       "0                         0                           0                 2174   \n",
       "1                         0                           0                    0   \n",
       "2                         0                           0                    0   \n",
       "3                         0                           0                    0   \n",
       "4                         0                           1                    0   \n",
       "...                     ...                         ...                  ...   \n",
       "159483                    1                           0                    0   \n",
       "159484                    1                           1                    0   \n",
       "159485                    1                           0                 7688   \n",
       "159486                    0                           1                 4931   \n",
       "159487                    1                           1                    0   \n",
       "\n",
       "        label education-num  \n",
       "0                        13  \n",
       "1                        13  \n",
       "2                         9  \n",
       "3                         7  \n",
       "4                        13  \n",
       "...                     ...  \n",
       "159483                   16  \n",
       "159484                   16  \n",
       "159485                   16  \n",
       "159486                   16  \n",
       "159487                   16  \n",
       "\n",
       "[159488 rows x 4 columns]"
      ]
     },
     "execution_count": 50,
     "metadata": {},
     "output_type": "execute_result"
    }
   ],
   "source": [
    "df_corrs = pd.DataFrame({'income_binary__>50K': df['income_binary__>50K'], 'occupation__Prof-specialty': df['occupation__Prof-specialty'], \n",
    "                         'capital-gain-winsor': df['capital-gain-winsor'],'label education-num' :df['education-num']})\n",
    "df_corrs"
   ]
  },
  {
   "cell_type": "code",
   "execution_count": 51,
   "metadata": {},
   "outputs": [
    {
     "data": {
      "text/plain": [
       "<seaborn.axisgrid.PairGrid at 0x70ca74b53af0>"
      ]
     },
     "execution_count": 51,
     "metadata": {},
     "output_type": "execute_result"
    },
    {
     "data": {
      "image/png": "[encoded data removed]",
      "text/plain": [
       "<Figure size 1000x1000 with 14 Axes>"
      ]
     },
     "metadata": {},
     "output_type": "display_data"
    }
   ],
   "source": [
    "sns.pairplot(data=df_corrs, kind = 'kde', corner=True)"
   ]
  },
  {
   "cell_type": "code",
   "execution_count": 52,
   "metadata": {},
   "outputs": [
    {
     "data": {
      "text/plain": [
       "Index(['age', 'hours-per-week', 'education-num', 'workclass__Federal-gov',\n",
       "       'workclass__Local-gov', 'workclass__Private', 'workclass__Self-emp-inc',\n",
       "       'workclass__Self-emp-not-inc', 'workclass__State-gov',\n",
       "       'workclass__Without-pay', 'marital-status__Divorced',\n",
       "       'marital-status__Married-AF-spouse',\n",
       "       'marital-status__Married-civ-spouse',\n",
       "       'marital-status__Married-spouse-absent',\n",
       "       'marital-status__Never-married', 'marital-status__Separated',\n",
       "       'marital-status__Widowed', 'occupation__Adm-clerical',\n",
       "       'occupation__Armed-Forces', 'occupation__Craft-repair',\n",
       "       'occupation__Exec-managerial', 'occupation__Farming-fishing',\n",
       "       'occupation__Handlers-cleaners', 'occupation__Machine-op-inspct',\n",
       "       'occupation__Other-service', 'occupation__Priv-house-serv',\n",
       "       'occupation__Prof-specialty', 'occupation__Protective-serv',\n",
       "       'occupation__Sales', 'occupation__Tech-support',\n",
       "       'occupation__Transport-moving', 'relationship__Husband',\n",
       "       'relationship__Not-in-family', 'relationship__Other-relative',\n",
       "       'relationship__Own-child', 'relationship__Unmarried',\n",
       "       'relationship__Wife', 'race__Amer-Indian-Inuit',\n",
       "       'race__Asian-Pac-Islander', 'race__Black', 'race__Other', 'race__White',\n",
       "       'sex_selfID__Female', 'sex_selfID__Non-Female', 'income_binary__<=50K',\n",
       "       'income_binary__>50K', 'capital-gain-winsor', 'capital-loss-winsor'],\n",
       "      dtype='object')"
      ]
     },
     "execution_count": 52,
     "metadata": {},
     "output_type": "execute_result"
    }
   ],
   "source": [
    "df.columns"
   ]
  },
  {
   "cell_type": "markdown",
   "metadata": {},
   "source": [
    "## Part 4: Define Your Project Plan\n",
    "\n",
    "Now that you understand your data, in the markdown cell below, define your plan to implement the remaining phases of the machine learning life cycle (data preparation, modeling, evaluation) to solve your ML problem. Answer the following questions:\n",
    "\n",
    "* Do you have a new feature list? If so, what are the features that you chose to keep and remove after inspecting the data? \n",
    "* Explain different data preparation techniques that you will use to prepare your data for modeling.\n",
    "* What is your model (or models)?\n",
    "* Describe your plan to train your model, analyze its performance and then improve the model. That is, describe your model building, validation and selection plan to produce a model that generalizes well to new data. "
   ]
  },
  {
   "cell_type": "markdown",
   "metadata": {},
   "source": [
    "1. I have a new feature list as I turn all the object data into intergers using one hot encoding. I addressed missing\n",
    "data and outliers with replacing it with its mean and winsorization and I dropped the rows with too many missing data like native country as there is no unbias way in filling in the missing values.\n",
    "2. To prepare my data for modeling I got rid of as much missing values as I can within reason as some of the models I will use can not handle missing data well, I winsorized espeically for capital gain and capital loss as the range of numbers is very large. I analyze the correlation numbers with the winsoriization column and non-winsorization column with respect to the label education-num before dropping the non-winsorized column to fully grasp the effects of certain percentages of winsorization.\n",
    "3. I will test random forest, GBDT, and decision trees for my regression problems to analyze which model will product the maxium accuracy score.\n",
    "4. I will find the hyperparameter for each individual model by using gridsearch on different ranges of numbers and use evaluation metrics such as root mean square error, R^2, and mean absolute error."
   ]
  },
  {
   "cell_type": "markdown",
   "metadata": {},
   "source": [
    "## Part 5: Implement Your Project Plan\n",
    "\n",
    "<b>Task:</b> In the code cell below, import additional packages that you have used in this course that you will need to implement your project plan."
   ]
  },
  {
   "cell_type": "code",
   "execution_count": 53,
   "metadata": {},
   "outputs": [],
   "source": [
    "# YOUR CODE HERE\n",
    "from sklearn.ensemble import GradientBoostingRegressor\n",
    "from sklearn.ensemble import RandomForestRegressor\n",
    "from sklearn.metrics import mean_absolute_error"
   ]
  },
  {
   "cell_type": "code",
   "execution_count": 54,
   "metadata": {},
   "outputs": [],
   "source": [
    "y = df['education-num']\n",
    "X = df.drop(columns = 'education-num', axis=1)"
   ]
  },
  {
   "cell_type": "code",
   "execution_count": 55,
   "metadata": {},
   "outputs": [],
   "source": [
    "X_train,X_test, y_train, y_test = train_test_split(X,y, test_size = .20, random_state =1234)"
   ]
  },
  {
   "cell_type": "markdown",
   "metadata": {},
   "source": [
    "<b>Task:</b> Use the rest of this notebook to carry out your project plan. \n",
    "\n",
    "You will:\n",
    "\n",
    "1. Prepare your data for your model.\n",
    "2. Fit your model to the training data and evaluate your model.\n",
    "3. Improve your model's performance by performing model selection and/or feature selection techniques to find best model for your problem.\n",
    "\n",
    "Add code cells below and populate the notebook with commentary, code, analyses, results, and figures as you see fit. "
   ]
  },
  {
   "cell_type": "markdown",
   "metadata": {},
   "source": [
    "## To save on computational time I will put the best values I found for each hyperparameter. I have tried a range of numbers \n",
    "## for hyperparameters for each model but for the sake of time I will only list some values I tested."
   ]
  },
  {
   "cell_type": "raw",
   "metadata": {},
   "source": [
    "RF_md = [8,24]\n",
    "RF_ne = [200,300,350,400]\n",
    "\n",
    "RF_param_grid = {'max_depth': RF_md, 'n_estimators': RF_ne}\n"
   ]
  },
  {
   "cell_type": "raw",
   "metadata": {},
   "source": [
    "print('Running Grid Search...')\n",
    "\n",
    "rf_regressor = RandomForestRegressor()\n",
    "\n",
    "rf_grid = GridSearchCV(rf_regressor,RF_param_grid,cv=3, scoring ='neg_root_mean_squared_error', verbose=1)\n",
    "\n",
    "rf_grid_search = rf_grid.fit(X_train,y_train)\n",
    "print('Done')\n"
   ]
  },
  {
   "cell_type": "raw",
   "metadata": {},
   "source": [
    "rf_rmse = -1 * rf_grid_search.best_score_\n",
    "print(\"GBDT RMSE for the best model is: {.2f}\", rf_rmse)\n",
    "#GBDT RMSE for the best model is: {.2f} 1.356023055495162\n"
   ]
  },
  {
   "cell_type": "raw",
   "metadata": {},
   "source": [
    "rf_best_params = rf_grid_search.best_params_\n",
    "rf_best_params\n",
    "\n",
    "#{'max_depth': 24, 'n_estimators': 200}\n"
   ]
  },
  {
   "cell_type": "code",
   "execution_count": 56,
   "metadata": {},
   "outputs": [
    {
     "name": "stdout",
     "output_type": "stream",
     "text": [
      "[RF] mae:  0.749563207807187\n",
      "[RF] Root Mean Squared Error: 1.332214286795285\n",
      "[RF] R2: 0.9162964899277134\n"
     ]
    },
    {
     "name": "stderr",
     "output_type": "stream",
     "text": [
      "/home/ubuntu/.pyenv/versions/3.9.19/lib/python3.9/site-packages/sklearn/metrics/_regression.py:483: FutureWarning: 'squared' is deprecated in version 1.4 and will be removed in 1.6. To calculate the root mean squared error, use the function'root_mean_squared_error'.\n",
      "  warnings.warn(\n"
     ]
    }
   ],
   "source": [
    "rf_model = RandomForestRegressor(max_depth = 24, n_estimators = 200)\n",
    "\n",
    "rf_model.fit(X_train,y_train)\n",
    "\n",
    "y_rf_pred = rf_model.predict(X_test)\n",
    "\n",
    "rf_mae = mean_absolute_error(y_test,y_rf_pred)\n",
    "rf_rmse = mean_squared_error(y_test, y_rf_pred, squared=False)\n",
    "rf_r2 = r2_score(y_test, y_rf_pred)\n",
    "\n",
    "print('[RF] mae: ', rf_mae)\n",
    "print('[RF] Root Mean Squared Error: {0}'.format(rf_rmse))\n",
    "print('[RF] R2: {0}'.format(rf_r2))\n"
   ]
  },
  {
   "cell_type": "markdown",
   "metadata": {},
   "source": [
    "## Decision Tree Regressor"
   ]
  },
  {
   "cell_type": "raw",
   "metadata": {},
   "source": [
    "md = [8,10,12,14]\n",
    "msl = [25,30,35,40]\n",
    "mss = [2,5,10]\n",
    "DT_param_grid = {'max_depth' :md, 'min_samples_split':mss, 'min_samples_leaf':msl}"
   ]
  },
  {
   "cell_type": "raw",
   "metadata": {},
   "source": [
    "print('Running Grid Search')\n",
    "\n",
    "DT_regressor = DecisionTreeRegressor()\n",
    "\n",
    "DT_grid = GridSearchCV(DT_regressor, DT_param_grid, cv=3, scoring = 'neg_root_mean_squared_error',verbose=1)\n",
    "\n",
    "DT_grid_search = DT_grid.fit(X_train,y_train)\n",
    "\n",
    "print('Done')"
   ]
  },
  {
   "cell_type": "raw",
   "metadata": {},
   "source": [
    "DT_rmse = -1 * DT_grid_search.best_score_\n",
    "print(\"DT RMSE for the best model is: {.2f}\", DT_rmse)\n",
    "#DT RMSE for the best model is: {.2f} 2.475031089525188\n"
   ]
  },
  {
   "cell_type": "raw",
   "metadata": {},
   "source": [
    "DT_best_params = DT_grid_search.best_params_\n",
    "DT_best_params\n",
    "#'max_depth': 14, 'min_samples_leaf': 25, 'min_samples_split': 5"
   ]
  },
  {
   "cell_type": "code",
   "execution_count": 57,
   "metadata": {},
   "outputs": [
    {
     "name": "stdout",
     "output_type": "stream",
     "text": [
      "[DT] mae:  1.8214747020643651\n",
      "[DT] rmse:  2.45461252163394\n",
      "[DT] r2: 0.7158410184902719\n"
     ]
    },
    {
     "name": "stderr",
     "output_type": "stream",
     "text": [
      "/home/ubuntu/.pyenv/versions/3.9.19/lib/python3.9/site-packages/sklearn/metrics/_regression.py:483: FutureWarning: 'squared' is deprecated in version 1.4 and will be removed in 1.6. To calculate the root mean squared error, use the function'root_mean_squared_error'.\n",
      "  warnings.warn(\n"
     ]
    }
   ],
   "source": [
    "DT_model = DecisionTreeRegressor(max_depth = 14 ,min_samples_split = 5,\n",
    "                                min_samples_leaf = 25 )\n",
    "\n",
    "DT_model.fit(X_train, y_train)\n",
    "\n",
    "y_DT_pred = DT_model.predict(X_test)\n",
    "\n",
    "dt_mae = mean_absolute_error(y_test,y_DT_pred)\n",
    "dt_rmse = mean_squared_error(y_test, y_DT_pred, squared=False)\n",
    "dt_r2 = r2_score(y_test, y_DT_pred)\n",
    "print('[DT] mae: ', dt_mae)\n",
    "print('[DT] rmse: ', dt_rmse)\n",
    "print('[DT] r2:', dt_r2)"
   ]
  },
  {
   "cell_type": "markdown",
   "metadata": {},
   "source": [
    "## GBDT Regressor "
   ]
  },
  {
   "cell_type": "raw",
   "metadata": {},
   "source": [
    "GBDT_max_depth = [2,3,4]\n",
    "n_estimators = [150,200,300]\n",
    "GBDT_lr = [0.01,0.05]\n",
    "\n",
    "GBDT_param_grid = {'max_depth': GBDT_max_depth, 'n_estimators': n_estimators,'learning_rate': GBDT_lr}"
   ]
  },
  {
   "cell_type": "raw",
   "metadata": {},
   "source": [
    "print('Running Grid Search')\n",
    "\n",
    "GBDT_regressor = GradientBoostingRegressor()\n",
    "\n",
    "GBDT_grid = GridSearchCV(GBDT_regressor, GBDT_param_grid, cv=3, scoring = 'neg_root_mean_squared_error',verbose=1)\n",
    "\n",
    "GBDT_grid_search = GBDT_grid.fit(X_train,y_train)\n",
    "\n",
    "print('Done')"
   ]
  },
  {
   "cell_type": "raw",
   "metadata": {},
   "source": [
    "GBDT_rmse = -1 * GBDT_grid_search.best_score_\n",
    "print(\"GBDT RMSE for the best model is: {.2f}\", GBDT_rmse)\n",
    "#GBDT RMSE for the best model is: {.2f} 2.5596749665999625\n"
   ]
  },
  {
   "cell_type": "raw",
   "metadata": {},
   "source": [
    "GBDT_best_params = GBDT_grid_search.best_params_\n",
    "GBDT_best_params\n",
    "#max depth = 4, n_estimators = 300,learning_rate =0.05 )"
   ]
  },
  {
   "cell_type": "code",
   "execution_count": 58,
   "metadata": {},
   "outputs": [
    {
     "name": "stdout",
     "output_type": "stream",
     "text": [
      "[GBDT] mae:  1.988229596597208\n",
      "[GBDT] Root Mean Squared Error: 2.5617226888621696\n",
      "[GBDT] R2: 0.6905006606062876\n"
     ]
    },
    {
     "name": "stderr",
     "output_type": "stream",
     "text": [
      "/home/ubuntu/.pyenv/versions/3.9.19/lib/python3.9/site-packages/sklearn/metrics/_regression.py:483: FutureWarning: 'squared' is deprecated in version 1.4 and will be removed in 1.6. To calculate the root mean squared error, use the function'root_mean_squared_error'.\n",
      "  warnings.warn(\n"
     ]
    }
   ],
   "source": [
    "gbdt_model = GradientBoostingRegressor(max_depth = 4,\n",
    "                                         n_estimators = 300,learning_rate =0.05 )\n",
    "gbdt_model.fit(X_train, y_train)\n",
    "\n",
    "y_GBDT_pred = gbdt_model.predict(X_test)\n",
    "gbdt_rmse = mean_squared_error(y_test, y_GBDT_pred, squared=False)\n",
    "gbdt_r2 = r2_score(y_test, y_GBDT_pred)\n",
    "gbdt_mae = mean_absolute_error(y_test,y_GBDT_pred)\n",
    "print('[GBDT] mae: ', gbdt_mae)\n",
    "print('[GBDT] Root Mean Squared Error: {0}'.format(gbdt_rmse))\n",
    "print('[GBDT] R2: {0}'.format(gbdt_r2))"
   ]
  },
  {
   "cell_type": "code",
   "execution_count": 59,
   "metadata": {},
   "outputs": [
    {
     "data": {
      "image/png": "[encoded data removed]",
      "text/plain": [
       "<Figure size 640x480 with 1 Axes>"
      ]
     },
     "metadata": {},
     "output_type": "display_data"
    }
   ],
   "source": [
    "MAE_Results = [rf_mae, dt_mae, gbdt_mae]\n",
    "RMSE_Results =  [rf_rmse,dt_rmse, gbdt_rmse]\n",
    "R2_Results = [ rf_r2,dt_r2, gbdt_r2,]\n",
    "\n",
    "labels = ['RF', 'DT', 'GBDT']\n",
    "\n",
    "rg= np.arange(len(labels))\n",
    "width = 0.25\n",
    "\n",
    "\n",
    "plt.bar(labels,RMSE_Results,width=0.5,align = 'edge', label = 'RMSE')\n",
    "\n",
    "plt.bar(labels,MAE_Results,width=0.5,label = 'MAE')\n",
    "\n",
    "\n",
    "plt.bar(labels, R2_Results, width = 0.5, align = 'edge', label = 'R2')\n",
    "\n",
    "\n",
    "plt.xticks(rg + width/2, labels)\n",
    "\n",
    "plt.xlabel(\"Models\")\n",
    "plt.ylabel(\"MAE/RMSE/R2\")\n",
    "\n",
    "\n",
    "plt.ylim([0,3])\n",
    "plt.title('Model Performance')\n",
    "plt.legend(loc='upper left', ncol=3)\n",
    "plt.show()\n"
   ]
  },
  {
   "cell_type": "code",
   "execution_count": 60,
   "metadata": {},
   "outputs": [
    {
     "name": "stdout",
     "output_type": "stream",
     "text": [
      "Random Forest, Decision Tree, Gradient Boosted Decision Tree\n",
      "MAE [0.749563207807187, 1.8214747020643651, 1.988229596597208]\n",
      "RMSE [1.332214286795285, 2.45461252163394, 2.5617226888621696]\n",
      "R2  [0.9162964899277134, 0.7158410184902719, 0.6905006606062876]\n"
     ]
    }
   ],
   "source": [
    "print(\"Random Forest, Decision Tree, Gradient Boosted Decision Tree\")\n",
    "print(\"MAE\", MAE_Results)\n",
    "print(\"RMSE\", RMSE_Results)\n",
    "print(\"R2 \",R2_Results)"
   ]
  },
  {
   "cell_type": "markdown",
   "metadata": {},
   "source": [
    "Based on the results of the different models and the metrics like mean absolute error, root mean squared, and r2 I will be using the random forest model."
   ]
  }
 ],
 "metadata": {
  "kernelspec": {
   "display_name": "Python 3 (ipykernel)",
   "language": "python",
   "name": "python3"
  },
  "language_info": {
   "codemirror_mode": {
    "name": "ipython",
    "version": 3
   },
   "file_extension": ".py",
   "mimetype": "text/x-python",
   "name": "python",
   "nbconvert_exporter": "python",
   "pygments_lexer": "ipython3",
   "version": "3.9.19"
  },
  "toc": {
   "base_numbering": 1,
   "nav_menu": {},
   "number_sections": false,
   "sideBar": true,
   "skip_h1_title": false,
   "title_cell": "Table of Contents",
   "title_sidebar": "Contents",
   "toc_cell": false,
   "toc_position": {},
   "toc_section_display": true,
   "toc_window_display": false
  },
  "varInspector": {
   "cols": {
    "lenName": 16,
    "lenType": 16,
    "lenVar": 40
   },
   "kernels_config": {
    "python": {
     "delete_cmd_postfix": "",
     "delete_cmd_prefix": "del ",
     "library": "var_list.py",
     "varRefreshCmd": "print(var_dic_list())"
    },
    "r": {
     "delete_cmd_postfix": ") ",
     "delete_cmd_prefix": "rm(",
     "library": "var_list.r",
     "varRefreshCmd": "cat(var_dic_list()) "
    }
   },
   "types_to_exclude": [
    "module",
    "function",
    "builtin_function_or_method",
    "instance",
    "_Feature"
   ],
   "window_display": false
  }
 },
 "nbformat": 4,
 "nbformat_minor": 4
}
